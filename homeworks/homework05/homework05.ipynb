{
 "cells": [
  {
   "cell_type": "markdown",
   "metadata": {},
   "source": [
    "# Data exploration with pandas and sklearn\n",
    "\n",
    "## The goal of this homework is to discover structure in an unlabeled dataset. The observations in this dataset belong to several different clusters. The specific goal is to identify how many clusters there are and to which cluster each point belongs."
   ]
  },
  {
   "cell_type": "markdown",
   "metadata": {},
   "source": [
    "## Question 1 (5 points). Load the dataset into a pandas dataframe. Each row represents a single observation; the values in the columns are numeric features recorded for that observation (in other words, this is a 'tidy' dataset). How many rows and columns are there? What is the dimension of this dataset? In other words, how many different features are there for each observation?"
   ]
  },
  {
   "cell_type": "code",
   "execution_count": null,
   "metadata": {},
   "outputs": [],
   "source": [
    "# you could start with something like this...\n",
    "%matplotlib inline\n",
    "import matplotlib.pyplot as plt # for plotting\n",
    "import pandas as pd # pandas\n",
    "\n",
    "datafile = 'data/dataset.csv'\n",
    "\n",
    "df = pd.read_csv(datafile) # df for dataframe but you can call it whatever you like\n",
    "\n"
   ]
  },
  {
   "cell_type": "markdown",
   "metadata": {},
   "source": [
    "## Question 2 (5 points). Make a scatter plot of `dim1` versus `dim2`, ie the first column versus the second one. How many clusters do you see in this plot?"
   ]
  },
  {
   "cell_type": "code",
   "execution_count": null,
   "metadata": {},
   "outputs": [],
   "source": [
    "# You could use either \n",
    "#\n",
    "#plt.scatter(xvals, yvals) #with appropriate choices for xvals and yvals (see lecture 10 for examples) \n",
    "#\n",
    "# or\n",
    "#\n",
    "#df.plot.scatter(...) #filling in the \"...\"\n",
    "#\n",
    "# recall that df['dim1'] returns the single column of values in the 'dim1' column\n",
    "#\n"
   ]
  },
  {
   "cell_type": "markdown",
   "metadata": {},
   "source": [
    "## Question 3 (15 points). Perform principal components analysis (PCA) on the dataset, following along with the example in the lectures10and11 notebook. What fraction of the variation in the dataset is captured by the first two components? Make a plot of the first component against the second component. Now how many clusters do you see in the data? (2 points extra credit if you standardize the data first using `sklearn.preprocessing.StandardScaler`; see the lectures10and11 notebook for an example of how to do that.)"
   ]
  },
  {
   "cell_type": "code",
   "execution_count": null,
   "metadata": {},
   "outputs": [],
   "source": [
    "# start by importing the PCA class\n",
    "from sklearn.decomposition import PCA\n",
    "\n",
    "# 1. create and configure the model (call it \"pca\")\n",
    "\n",
    "# 2. fit the model to the data (use pca.fit(...) )\n",
    "\n",
    "# 3. look at the model's explained_variance_ratio_ (i.e., pca.explained_variance_ratio_ where pca\n",
    "#    is what you called the PCA object) to see how much variance the top two components capture.\n",
    "\n",
    "# 4. transform the data to a new array, call it \"X_pca\" (use pca.transform(...) )\n",
    "\n",
    "# 5. Plot the first two components, as we did in class.\n",
    "\n",
    "#plt.scatter( ... )\n"
   ]
  },
  {
   "cell_type": "markdown",
   "metadata": {},
   "source": [
    "## Question 4 (15 points). Use the KMeans clustering algorithm from scikit-learn to assign each point in the dataset to a cluster. Configure KMeans to find a number of clusters equal to the number that you identified visually in the PCA plot from question 3. What are the sizes of the different clusters (how many points are in each cluster)? Remake the PCA scatter plot (PC1 versus PC2) colored by the cluster labels."
   ]
  },
  {
   "cell_type": "code",
   "execution_count": null,
   "metadata": {},
   "outputs": [],
   "source": [
    "from sklearn.cluster import KMeans\n",
    "\n",
    "nclust= # answer from Question 3\n",
    "\n",
    "# 1. create a KMeans object, call it kmeans; you'll need to tell it how many clusters to find\n",
    "\n",
    "# 2. fit the object to the data using kmeans.fit\n",
    "\n",
    "# 3. Get the list of clusters using kmeans.predict\n",
    "#    Name the returned array of cluster assignments \"clusters\"\n",
    "\n",
    "# To get the cluster sizes, first look at the array of clusters returned by kmeans.predict\n",
    "#    to see that the different values are integers between 0 and nclust-1, inclusive.\n",
    "\n",
    "# To get the size of each cluster, you could write a for loop over the different cluster\n",
    "# numbers, and inside the loop you could count how many elements in clusters array are\n",
    "# equal to that cluster number. Instead, do it by creating a new column in the dataframe \n",
    "# containing the cluster assignments, and using the pandas method value_counts:\n",
    "\n",
    "df['clusters'] = clusters # create a new column in the dataframe with the KMeans cluster assignments\n",
    "\n",
    "print('cluster sizes:', df['clusters'].value_counts()) # handy built-in counting method for Pandas Series objects\n",
    "\n",
    "# use this code to remake the PCA plot colored by the kmeans clusters, where \"clusters\" is the \n",
    "#  array returned by the kmeans.predict function  \n",
    "#plt.scatter( X_pca[:,0], X_pca[:,1], c=clusters )\n",
    "\n"
   ]
  },
  {
   "cell_type": "markdown",
   "metadata": {},
   "source": [
    "## Question 5. (10 points) Make a 'scatter matrix' plot showing each column of the original dataset plotted against each of the other 9 columns in a big 10x10 array (like we did for the iris dataset in the lectures10and11 notebook). Notice how the number of apparent clusters in the data varies depends on which pairs of features are being plotted against one another. Color the plots using the kmeans clusters like you did in the previous question.\n",
    "You could use `pd.plotting.scatter_matrix` or try importing seaborn (`import seaborn as sns`) and use `sns.pairplot`. Or (optional) try both and see which looks nicer. `sns.pairplot` has a `hue` argument that you can use for coloring by passing `hue='clusters'`. See the `pd.plotting.scatter_matrix` and `sns.pairplot` examples in the lectures10and11.ipynb jupyter notebook."
   ]
  },
  {
   "cell_type": "code",
   "execution_count": null,
   "metadata": {},
   "outputs": [],
   "source": [
    "# put your answer here\n"
   ]
  },
  {
   "cell_type": "code",
   "execution_count": null,
   "metadata": {},
   "outputs": [],
   "source": [
    "# and maybe also here if you are trying both and comparing...\n"
   ]
  },
  {
   "cell_type": "markdown",
   "metadata": {},
   "source": [
    "## Question 5. (5 points of extra credit) Use the TSNE algorithm in scikit-learn to project the dataset down into 2 dimensions. How many clusters do you see in the TSNE scatter plot?"
   ]
  },
  {
   "cell_type": "code",
   "execution_count": null,
   "metadata": {},
   "outputs": [],
   "source": [
    "from sklearn.manifold import TSNE\n",
    "\n",
    "# 1. create the TSNE object, call it tsne. Tell it you want 2 components (ie, a 2D projection) \n",
    "\n",
    "# 2. Fit the data to the model and transform to a new array (call it X_tsne) using tsne.fit_transform\n",
    "#     This combines the fit and transform steps into a single operation.\n",
    "\n",
    "\n",
    "# Use this matplotlib command to make a scatter plot of the two components, colored by the \n",
    "#  kmeans cluster assignments\n",
    "#plt.scatter( X_tsne[:,0], X_tsne[:,1], c=clusters )\n"
   ]
  }
 ],
 "metadata": {
  "kernelspec": {
   "display_name": "Python 3",
   "language": "python",
   "name": "python3"
  },
  "language_info": {
   "codemirror_mode": {
    "name": "ipython",
    "version": 3
   },
   "file_extension": ".py",
   "mimetype": "text/x-python",
   "name": "python",
   "nbconvert_exporter": "python",
   "pygments_lexer": "ipython3",
   "version": "3.6.11"
  }
 },
 "nbformat": 4,
 "nbformat_minor": 2
}

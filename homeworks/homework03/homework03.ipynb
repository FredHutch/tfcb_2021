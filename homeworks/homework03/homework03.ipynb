{
 "cells": [
  {
   "cell_type": "markdown",
   "metadata": {},
   "source": [
    "# LAST YEAR'S Homework03 DO NOT COMPLETE EXCEPT FOR FUN\n",
    "# Homework03 (10 points): Parsing single-cell genomics data\n",
    "\n",
    "Here we parse the output of a single-cell genomics experiment. Actually just the first couple cells from an experiment. The data is formatted in the style of 10X Genomics output.\n",
    "\n",
    "There are some potentially useful code snippets at the end of the notebook.\n",
    "\n",
    "Please post questions to the `lectures-homework` slack channel. Phil is also available via email (pbradley@fredhutch.org)."
   ]
  },
  {
   "cell_type": "markdown",
   "metadata": {},
   "source": [
    "## Looking at the input files\n",
    "In the folder where this homework notebook lives, there's a directory `data/` which contains another directory `filtered_feature_bc_matrix/`  with the results of a single-cell genomics experiment."
   ]
  },
  {
   "cell_type": "code",
   "execution_count": null,
   "metadata": {},
   "outputs": [],
   "source": [
    "# We can list the contents of that directory to see that it contains three files.\n",
    "# here the %ls is a jupyter notebook thing, not a python thing. % means we are calling\n",
    "# a built-in jupyter notebook function\n",
    "%ls data/filtered_feature_bc_matrix"
   ]
  },
  {
   "cell_type": "markdown",
   "metadata": {},
   "source": [
    "Here's what the files look like, using the unix `head` command to print out the first 5 lines of each.\n",
    "\n",
    "```\n",
    "rhino01$ head -5 data/filtered_feature_bc_matrix/barcodes.tsv\n",
    "AAAGCAACAAGCGTAG-1\n",
    "AAAGTAGCATACGCTA-1\n",
    "AAAGTAGGTCTCTCGT-1\n",
    "AAAGTAGTCCACGTGG-1\n",
    "AAATGCCTCACGACTA-1\n",
    "\n",
    "rhino01$ head -5 data/filtered_feature_bc_matrix/features.tsv\n",
    "ENSG00000243485\tMIR1302-2HG\tGene Expression\n",
    "ENSG00000237613\tFAM138A\tGene Expression\n",
    "ENSG00000186092\tOR4F5\tGene Expression\n",
    "ENSG00000238009\tAL627309.1\tGene Expression\n",
    "ENSG00000239945\tAL627309.3\tGene Expression\n",
    "\n",
    "rhino01$ head -5 data/filtered_feature_bc_matrix/matrix.mtx\n",
    "%%MatrixMarket matrix coordinate integer general\n",
    "%\n",
    "36620 10 8350\n",
    "42 1 1\n",
    "49 1 1\n",
    "```"
   ]
  },
  {
   "cell_type": "markdown",
   "metadata": {},
   "source": [
    "The `barcodes.tsv` file contains DNA barcodes associated to the different cells that were profiled.\n",
    "\n",
    "The `features.tsv` file describes the features that were analyzed (mRNA transcripts and in this case also surface proteins using DNA-barcoded antibodies).\n",
    "\n",
    "The `matrix.mtx` file contains the results of the experiment. Each line after the first three header lines contains three integers, FEATURE CELL COUNT, which indicate the COUNT of transcripts mapping to feature number FEATURE in cell number CELL. FEATURE and CELL are numbered 1...N_FEATURES and 1...N_CELLS, respectively. \n"
   ]
  },
  {
   "cell_type": "code",
   "execution_count": null,
   "metadata": {},
   "outputs": [],
   "source": [
    "## to get started, execute the code in this cell to define some filenames and a useful function\n",
    "\n",
    "barcodes_file = 'data/filtered_feature_bc_matrix/barcodes.tsv'\n",
    "features_file = 'data/filtered_feature_bc_matrix/features.tsv'\n",
    "matrix_file = 'data/filtered_feature_bc_matrix/matrix.mtx'\n",
    "\n",
    "def read_lines_from_file( filename ):\n",
    "    '''Returns a list containing all the lines in the given file\n",
    "    Note: the lines will end with the newline character ('\\n'),\n",
    "    with the possible exception of the last line\n",
    "    \n",
    "    Note: we could also do this in a single line:  return open(filename,'r').readlines()\n",
    "       The downside to that is that the file object may stay open for a little while after\n",
    "       we read from it. So it's safer to explicitly close the file by calling data.close()\n",
    "       or by using something we haven't talked about yet called a 'with' statement\n",
    "    '''\n",
    "    # open a file object for reading ('r')\n",
    "    data = open(filename, 'r')\n",
    "    # read all the lines into a list of strings\n",
    "    lines = data.readlines()\n",
    "    # close the file\n",
    "    data.close()\n",
    "    # return the lines\n",
    "    return lines\n",
    "\n"
   ]
  },
  {
   "cell_type": "markdown",
   "metadata": {},
   "source": [
    "## Q1 (1 pt). How many cells are represented in this experiment? \n",
    "Figure this out by reading the lines from `barcodes_file` into a list using the function `read_lines_from_file`, and printing the length of that list."
   ]
  },
  {
   "cell_type": "code",
   "execution_count": null,
   "metadata": {},
   "outputs": [],
   "source": [
    "# put your code here in this block\n"
   ]
  },
  {
   "cell_type": "markdown",
   "metadata": {},
   "source": [
    "## Q2 (1 pt). How many features (mRNA transcripts or surface proteins) are represented in this experiment? \n",
    "Figure this out by reading the lines from `features_file` into a list, and printing the length of that list."
   ]
  },
  {
   "cell_type": "code",
   "execution_count": null,
   "metadata": {},
   "outputs": [],
   "source": [
    "# put your code here in this block\n"
   ]
  },
  {
   "cell_type": "markdown",
   "metadata": {},
   "source": [
    "## Q3 (1 pt). How many nonzero entries are there in the counts matrix, which stores all the observed features (mRNA transcripts or surface proteins) for all the cells? In other words, how many cell-feature combinations were observed in the experiment?\n",
    "Figure this out by reading the lines from `matrix_file` into a list, and printing the length of that list *MINUS 3* because the matrix file starts with three header lines (two comments and a line showing the overall size of the matrix)."
   ]
  },
  {
   "cell_type": "code",
   "execution_count": null,
   "metadata": {},
   "outputs": [],
   "source": [
    "# your code here\n"
   ]
  },
  {
   "cell_type": "markdown",
   "metadata": {},
   "source": [
    "## Q4 (1 pt). Print the third line in the matrix file (counting lines as we normally do 1,2,3,...). \n",
    "This line should relate to your previous answers."
   ]
  },
  {
   "cell_type": "code",
   "execution_count": null,
   "metadata": {},
   "outputs": [],
   "source": [
    "# your code here"
   ]
  },
  {
   "cell_type": "markdown",
   "metadata": {},
   "source": [
    "## Q5 (2 pts). Write a function that reads the features file and returns a list of the gene/protein names, as a list of strings. Use this function to get a list of the features and print the name of the 100th feature (here counting 1,2,3...). \n",
    "The features file has three, tab-separated columns and no header line. The names that we are looking for are in the second (ie, middle) column. These are the usual human-readable gene names like 'CD4' and 'CCL5'."
   ]
  },
  {
   "cell_type": "code",
   "execution_count": null,
   "metadata": {},
   "outputs": [],
   "source": [
    "## you can fill out this function\n",
    "\n",
    "def read_feature_names(filename):\n",
    "    ''' Return a list of the feature names\n",
    "    '''\n",
    "    lines = read_lines_from_file(filename)\n",
    "    # etc, etc\n",
    "    \n",
    "    \n",
    "features = read_feature_names(features_file)\n",
    "print(features[YOU_PUT_THE_RIGHT_NUMBER_IN_HERE])"
   ]
  },
  {
   "cell_type": "markdown",
   "metadata": {},
   "source": [
    "## Q6 (2 pts). Write a function that takes as input a cell number and a matrix filename and returns the total transcript count for all the features mapped to that cell number. In other words, the sum of all the transcript counts for all the features that were mapped to that cell. So, a single number. \n",
    "Start from the template below. The matrix file starts with three header lines. Every other line in the file consists of three integers: the feature number, the cell number, and the count for that feature (the number of unique transcripts mapping to that feature)."
   ]
  },
  {
   "cell_type": "code",
   "execution_count": null,
   "metadata": {},
   "outputs": [],
   "source": [
    "def get_total_count_for_cell(cell_number, matrix_filename):\n",
    "    ''' Read through the matrix file and sum up all the counts for features \n",
    "    that mapped to the given cell_number. cell_number is a 1-indexed integer,\n",
    "    just like the feature and cell indexes in the matrix file. I.e., it starts at 1.\n",
    "    '''\n",
    "    assert cell_number>0 # cell_number should be 1-indexed. 0 is not a valid cell nunber.\n",
    "    \n",
    "    # here we read the lines from the file, and use slicing to remove the first three header lines:\n",
    "    lines = read_lines_from_file(matrix_filename)[3:]\n",
    "    total_count = 0\n",
    "        \n",
    "    # etc etc\n",
    "            \n"
   ]
  },
  {
   "cell_type": "markdown",
   "metadata": {},
   "source": [
    "## Q7 (2 pts). Use the function you created above to print out the total feature count for each cell in the dataset. Which cell number (1-10) has the highest total number of transcripts? Which has the lowest?\n",
    "Use a `for` loop over a `range` expression to loop over the cell numbers when printing out the total feature counts. You can just eyeball the numbers to identify the cells with the largest and smallest counts. Or you could append them to a list and use the `max()` `min()` and `list.index()` functions."
   ]
  },
  {
   "cell_type": "code",
   "execution_count": 1,
   "metadata": {},
   "outputs": [],
   "source": [
    "# your code here\n"
   ]
  },
  {
   "cell_type": "markdown",
   "metadata": {},
   "source": [
    "## Q8 (2 pts extra credit). Write a function that takes as input a cell number, a list of all the features, and a matrix filename and returns a tuple (name, count) consisting of the name of the feature with the highest transcript count in that cell and the count for that feature. Use this to figure out the highest count feature for each of the 10 cells.\n",
    "One tricky thing is the disconnect between how the features are numbered in the matrix file and how they are numbered in python lists.  "
   ]
  },
  {
   "cell_type": "code",
   "execution_count": null,
   "metadata": {},
   "outputs": [],
   "source": [
    "def get_highest_feature(cell_number, features, matrix_filename):\n",
    "    ''' Read through the matrix file and find the feature with the highest count\n",
    "    for the given cell. Return the feature name and the count for that feature\n",
    "    '''\n",
    "    # fill this in\n",
    "    "
   ]
  },
  {
   "cell_type": "markdown",
   "metadata": {},
   "source": [
    "# Potentially useful code snippets"
   ]
  },
  {
   "cell_type": "code",
   "execution_count": null,
   "metadata": {},
   "outputs": [],
   "source": [
    "# parsing a single line...\n",
    "\n",
    "line = '4 6 20\\n'\n",
    "line_split = line.split()\n",
    "print(line_split) #strings\n",
    "\n",
    "#this is something called a list comprehension: it's a nice, short-hand way of creating a list in python\n",
    "# the general syntax is:\n",
    "#  [ expression_involving_variable for variable in list ]\n",
    "# or you can add an if-statement to filter out some elements:\n",
    "#  [ expression_involving_variable for variable in list if boolean_involving_variable ]\n",
    "\n",
    "counts = [int(x) for x in line_split] \n",
    " \n",
    "print(counts) # now integers\n",
    "\n",
    "a, b, c = counts # in python we can assign to multiple names using a list (or other \"iterable\" like a tuple) \n",
    "print('a=', a)\n",
    "print('b=', b)\n",
    "print('c=', c)\n"
   ]
  },
  {
   "cell_type": "code",
   "execution_count": null,
   "metadata": {},
   "outputs": [],
   "source": [
    "# max and min and index\n",
    "\n",
    "l = [3, 7, 4, -1, 10, 6]\n",
    "\n",
    "# max and min are built-in python functions that can operate on integers, floats, lists, and many other objects  \n",
    "print('max(3,4)=', max(3,4))\n",
    "print('min(2,10,-1,59)=', min(2,10,-1,59))\n",
    "\n",
    "print('max(l)=', max(l))\n",
    "print('min(l)=', min(l))\n",
    "\n",
    "# l.index is a function that returns the index where a given element occurs in a list\n",
    "\n",
    "print('index for max(l) in l:', l.index(max(l)))\n",
    "\n"
   ]
  },
  {
   "cell_type": "code",
   "execution_count": null,
   "metadata": {},
   "outputs": [],
   "source": []
  }
 ],
 "metadata": {
  "kernelspec": {
   "display_name": "Python 3",
   "language": "python",
   "name": "python3"
  },
  "language_info": {
   "codemirror_mode": {
    "name": "ipython",
    "version": 3
   },
   "file_extension": ".py",
   "mimetype": "text/x-python",
   "name": "python",
   "nbconvert_exporter": "python",
   "pygments_lexer": "ipython3",
   "version": "3.6.11"
  }
 },
 "nbformat": 4,
 "nbformat_minor": 2
}
